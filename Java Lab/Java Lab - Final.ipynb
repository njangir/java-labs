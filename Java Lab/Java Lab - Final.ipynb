{
 "cells": [
  {
   "cell_type": "markdown",
   "metadata": {},
   "source": [
    "Q 1   Given  pairs of rectangles, where each pair denotes the length  and breadth of the  rectangle. The task is to return the maximum area of the rectangle.\n",
    "\n",
    "N = 3\n",
    "rect[] = {{1,2},\n",
    "  {3,4},\n",
    "  {5,6}}\n",
    "\n",
    "\n",
    "30 \n",
    "\n",
    "1. Total area of Rect. 1 = 1 * 2 = 2 \n",
    "2. Total area of Rect. 2 = 3 * 4 = 12 \n",
    "3. Total area of Rect. 3 = 5 * 6 = 30 \n",
    "4. Out of all rectangles, Rectangle 3 has the maximum area.\n",
    "\n",
    "Your task is to complete the function () which returns maximum area. Use () function in Rectangle class."
   ]
  },
  {
   "cell_type": "markdown",
   "metadata": {},
   "source": [
    "Q 2  \n",
    "\n",
    "Create a class named Student with the following attributes:\n",
    "1)      name (String): to store the name of the student.\n",
    "2)      id (int): to store the student ID.\n",
    "3)      grade (double): to store the grade of the student.\n",
    "Implement a constructor to initialize these attributes.\n",
    " \n",
    "è In the main method, create an array named studentArray that can hold up to 10 Student objects.\n",
    "è Initialize the studentArray array with different Student objects. You can use fictional student data for this.\n",
    "è Write a method named displayStudents that takes the studentArray array as a parameter and displays the details of each student in the array.\n",
    "\n",
    "è Write a method named sortStudents that takes the studentArray array as a parameter and sorts the array based on the grades of the students in ascending order. You can use any sorting algorithm of your choice (e.g., bubble sort )"
   ]
  },
  {
   "cell_type": "markdown",
   "metadata": {},
   "source": [
    "Q 3 Write a Java class Car with the following attributes: make, model, year, and color. Implement a constructor that initializes these attributes when an object of the Car class is created. Write a main method to create an instance of Car and display its attributes.Enhance the Car class from the previous question by adding a parameterized constructor that takes values for make, model, year, and color as arguments. Demonstrate the use of this constructor in the main method"
   ]
  }
 ],
 "metadata": {
  "language_info": {
   "name": "python"
  }
 },
 "nbformat": 4,
 "nbformat_minor": 2
}
